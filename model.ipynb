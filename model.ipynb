{
 "cells": [
  {
   "cell_type": "code",
   "execution_count": null,
   "id": "5e668514",
   "metadata": {},
   "outputs": [],
   "source": []
  },
  {
   "cell_type": "code",
   "execution_count": null,
   "id": "139ae3b3",
   "metadata": {
    "lines_to_next_cell": 2
   },
   "outputs": [],
   "source": [
    "import os\n",
    "import numpy as np\n",
    "import tensorflow as tf\n",
    "from tensorflow.keras.preprocessing.image import ImageDataGenerator\n",
    "from tensorflow.keras.applications import ResNet50\n",
    "from tensorflow.keras.models import Model\n",
    "from tensorflow.keras.layers import Dense, Dropout, GlobalAveragePooling2D\n",
    "from tensorflow.keras.optimizers import Adam\n",
    "from tensorflow.keras.callbacks import ReduceLROnPlateau, EarlyStopping\n",
    "import matplotlib.pyplot as plt\n",
    "import cv2\n",
    "from sklearn.utils.class_weight import compute_class_weight"
   ]
  },
  {
   "cell_type": "code",
   "execution_count": null,
   "id": "a64596fc",
   "metadata": {},
   "outputs": [],
   "source": [
    "train_dir = \"C:\\\\Users\\\\DELL\\\\Downloads\\\\archive\\\\Training\"\n",
    "test_dir = \"C:\\\\Users\\\\DELL\\\\Downloads\\\\archive\\\\Testing\""
   ]
  },
  {
   "cell_type": "code",
   "execution_count": null,
   "id": "3b8f48b2",
   "metadata": {},
   "outputs": [],
   "source": [
    "# Augmentation and rescaling\n",
    "train_datagen = ImageDataGenerator(\n",
    "    rescale=1./255,\n",
    "    rotation_range=30,\n",
    "    zoom_range=0.3,\n",
    "    width_shift_range=0.2,\n",
    "    height_shift_range=0.2,\n",
    "    horizontal_flip=True,\n",
    "    fill_mode='nearest')"
   ]
  },
  {
   "cell_type": "code",
   "execution_count": null,
   "id": "a3ff6ab4",
   "metadata": {},
   "outputs": [],
   "source": [
    "test_datagen = ImageDataGenerator(rescale=1./255)"
   ]
  },
  {
   "cell_type": "code",
   "execution_count": null,
   "id": "f8ce0c91",
   "metadata": {},
   "outputs": [],
   "source": [
    "train_generator = train_datagen.flow_from_directory(\n",
    "    train_dir,\n",
    "    target_size=(224, 224),\n",
    "    batch_size=32,\n",
    "    class_mode='categorical')"
   ]
  },
  {
   "cell_type": "code",
   "execution_count": null,
   "id": "6181d652",
   "metadata": {},
   "outputs": [],
   "source": [
    "test_generator = test_datagen.flow_from_directory(\n",
    "    test_dir,\n",
    "    target_size=(224, 224),\n",
    "    batch_size=32,\n",
    "    class_mode='categorical')"
   ]
  },
  {
   "cell_type": "code",
   "execution_count": null,
   "id": "97a02dfd",
   "metadata": {},
   "outputs": [],
   "source": [
    "# Compute class weights\n",
    "class_weights = compute_class_weight(\n",
    "    class_weight='balanced',\n",
    "    classes=np.unique(train_generator.classes),\n",
    "    y=train_generator.classes)\n",
    "class_weights = dict(enumerate(class_weights))"
   ]
  },
  {
   "cell_type": "code",
   "execution_count": null,
   "id": "a2c165c7",
   "metadata": {},
   "outputs": [],
   "source": []
  },
  {
   "cell_type": "code",
   "execution_count": null,
   "id": "14045a6b",
   "metadata": {},
   "outputs": [],
   "source": []
  },
  {
   "cell_type": "code",
   "execution_count": null,
   "id": "9c28b4e1",
   "metadata": {},
   "outputs": [],
   "source": [
    "# Model\n",
    "base_model = ResNet50(weights='imagenet', include_top=False, input_shape=(224, 224, 3))\n",
    "base_model.trainable = True\n",
    "# Unfreeze the last 50 layers of ResNet50\n",
    "for layer in base_model.layers[:-50]:\n",
    "    layer.trainable = False"
   ]
  },
  {
   "cell_type": "code",
   "execution_count": null,
   "id": "54459f53",
   "metadata": {},
   "outputs": [],
   "source": [
    "x = base_model.output\n",
    "x = GlobalAveragePooling2D()(x)\n",
    "x = Dense(128, activation='relu')(x)\n",
    "x = Dropout(0.3)(x)\n",
    "predictions = Dense(4, activation='softmax')(x)\n",
    "model = Model(inputs=base_model.input, outputs=predictions)"
   ]
  },
  {
   "cell_type": "code",
   "execution_count": null,
   "id": "1873ea70",
   "metadata": {},
   "outputs": [],
   "source": [
    "# Compile model\n",
    "model.compile(optimizer=Adam(learning_rate=1e-4),\n",
    "              loss='categorical_crossentropy',\n",
    "              metrics=['accuracy'])"
   ]
  },
  {
   "cell_type": "code",
   "execution_count": null,
   "id": "df6609de",
   "metadata": {
    "lines_to_next_cell": 1
   },
   "outputs": [],
   "source": [
    "# Callbacks\n",
    "from tensorflow.keras.callbacks import LearningRateScheduler, EarlyStopping"
   ]
  },
  {
   "cell_type": "code",
   "execution_count": null,
   "id": "b3c36851",
   "metadata": {
    "lines_to_next_cell": 1
   },
   "outputs": [],
   "source": [
    "# Learning rate scheduler\n",
    "def lr_schedule(epoch):\n",
    "    lr = 1e-4\n",
    "    if epoch > 5:\n",
    "        lr = 1e-5\n",
    "    elif epoch > 10:\n",
    "        lr = 1e-6\n",
    "    print(\"Learning rate: \", lr)\n",
    "    return lr"
   ]
  },
  {
   "cell_type": "code",
   "execution_count": null,
   "id": "9ae9b670",
   "metadata": {},
   "outputs": [],
   "source": [
    "lr_scheduler = LearningRateScheduler(lr_schedule)\n",
    "early_stopping = EarlyStopping(monitor='val_loss', patience=5, restore_best_weights=True)"
   ]
  },
  {
   "cell_type": "code",
   "execution_count": null,
   "id": "e61ccede",
   "metadata": {},
   "outputs": [],
   "source": [
    "# Data Augmentation\n",
    "train_datagen = ImageDataGenerator(\n",
    "    rescale=1./255,\n",
    "    zoom_range=0.2,\n",
    "    horizontal_flip=True,\n",
    "    rotation_range=30,\n",
    "    width_shift_range=0.2,\n",
    "    height_shift_range=0.2,\n",
    "    shear_range=0.2,\n",
    "    fill_mode='nearest'\n",
    ")"
   ]
  },
  {
   "cell_type": "code",
   "execution_count": null,
   "id": "85338110",
   "metadata": {},
   "outputs": [],
   "source": [
    "test_datagen = ImageDataGenerator(rescale=1./255)"
   ]
  },
  {
   "cell_type": "code",
   "execution_count": null,
   "id": "4208371a",
   "metadata": {},
   "outputs": [],
   "source": [
    "# Train and test generators\n",
    "train_generator = train_datagen.flow_from_directory(\n",
    "    train_dir,\n",
    "    target_size=(224, 224),\n",
    "    batch_size=32,\n",
    "    class_mode='categorical')"
   ]
  },
  {
   "cell_type": "code",
   "execution_count": null,
   "id": "49395f25",
   "metadata": {},
   "outputs": [],
   "source": [
    "test_generator = test_datagen.flow_from_directory(\n",
    "    test_dir,\n",
    "    target_size=(224, 224),\n",
    "    batch_size=32,\n",
    "    class_mode='categorical')"
   ]
  },
  {
   "cell_type": "code",
   "execution_count": null,
   "id": "57e2d161",
   "metadata": {},
   "outputs": [],
   "source": [
    "# Train the model\n",
    "history = model.fit(\n",
    "    train_generator,\n",
    "    validation_data=test_generator,\n",
    "    epochs=10,\n",
    "    callbacks=[lr_scheduler, early_stopping]\n",
    ")"
   ]
  },
  {
   "cell_type": "code",
   "execution_count": null,
   "id": "13f43854",
   "metadata": {},
   "outputs": [],
   "source": [
    "# Save the model\n",
    "model.save(\"brain_tumor_model.h5\")"
   ]
  },
  {
   "cell_type": "code",
   "execution_count": null,
   "id": "614f4b52",
   "metadata": {
    "lines_to_next_cell": 2
   },
   "outputs": [],
   "source": []
  },
  {
   "cell_type": "code",
   "execution_count": null,
   "id": "26965517",
   "metadata": {},
   "outputs": [],
   "source": [
    "from tensorflow.keras.models import load_model\n",
    "from tensorflow.keras.optimizers import Adam\n",
    "from tensorflow.keras.preprocessing.image import ImageDataGenerator\n",
    "from tensorflow.keras.callbacks import EarlyStopping, LearningRateScheduler\n",
    "import os"
   ]
  },
  {
   "cell_type": "code",
   "execution_count": null,
   "id": "0c330217",
   "metadata": {},
   "outputs": [],
   "source": [
    "# Load your model from epoch 10\n",
    "model = load_model(\"brain_tumor_model.h5\")"
   ]
  },
  {
   "cell_type": "code",
   "execution_count": null,
   "id": "0f50a088",
   "metadata": {},
   "outputs": [],
   "source": [
    "# Unfreeze more layers for fine-tuning (e.g., last 70 layers)\n",
    "for layer in model.layers[-70:]:\n",
    "    layer.trainable = True"
   ]
  },
  {
   "cell_type": "code",
   "execution_count": null,
   "id": "2cf0a1a2",
   "metadata": {
    "lines_to_next_cell": 1
   },
   "outputs": [],
   "source": [
    "# Recompile with lower learning rate\n",
    "model.compile(optimizer=Adam(learning_rate=1e-5),\n",
    "              loss='categorical_crossentropy',\n",
    "              metrics=['accuracy'])"
   ]
  },
  {
   "cell_type": "code",
   "execution_count": null,
   "id": "0f0e53fa",
   "metadata": {
    "lines_to_next_cell": 1
   },
   "outputs": [],
   "source": [
    "# Learning rate scheduler: tiny bump down mid-fine-tuning\n",
    "def lr_schedule(epoch):\n",
    "    return 1e-5 if epoch < 2 else 1e-6"
   ]
  },
  {
   "cell_type": "code",
   "execution_count": null,
   "id": "ab2be10b",
   "metadata": {},
   "outputs": [],
   "source": [
    "# Callbacks\n",
    "lr_scheduler = LearningRateScheduler(lr_schedule)\n",
    "early_stop = EarlyStopping(monitor='val_loss', patience=3, restore_best_weights=True)"
   ]
  },
  {
   "cell_type": "code",
   "execution_count": null,
   "id": "e5276ab6",
   "metadata": {},
   "outputs": [],
   "source": [
    "# Data generators\n",
    "train_dir = \"C:\\\\Users\\\\DELL\\\\Downloads\\\\archive\\\\Training\"\n",
    "test_dir = \"C:\\\\Users\\\\DELL\\\\Downloads\\\\archive\\\\Testing\""
   ]
  },
  {
   "cell_type": "code",
   "execution_count": null,
   "id": "f85e4c0b",
   "metadata": {},
   "outputs": [],
   "source": [
    "train_datagen = ImageDataGenerator(rescale=1./255)\n",
    "test_datagen = ImageDataGenerator(rescale=1./255)"
   ]
  },
  {
   "cell_type": "code",
   "execution_count": null,
   "id": "996fa2e8",
   "metadata": {},
   "outputs": [],
   "source": [
    "train_generator = train_datagen.flow_from_directory(train_dir, target_size=(224, 224),\n",
    "                                                    batch_size=32, class_mode='categorical')\n",
    "test_generator = test_datagen.flow_from_directory(test_dir, target_size=(224, 224),\n",
    "                                                  batch_size=32, class_mode='categorical')"
   ]
  },
  {
   "cell_type": "code",
   "execution_count": null,
   "id": "615929f5",
   "metadata": {},
   "outputs": [],
   "source": [
    "# Continue training (epochs 11–15)\n",
    "model.fit(train_generator,\n",
    "          validation_data=test_generator,\n",
    "          epochs=15,\n",
    "          initial_epoch=10,\n",
    "          callbacks=[lr_scheduler, early_stop],\n",
    "          verbose=1)"
   ]
  },
  {
   "cell_type": "code",
   "execution_count": null,
   "id": "5d2bb363",
   "metadata": {},
   "outputs": [],
   "source": [
    "# Save updated model\n",
    "model.save(\"brain_tumor_model_finetuned_epoch15.h5\")"
   ]
  },
  {
   "cell_type": "code",
   "execution_count": null,
   "id": "2f41b531",
   "metadata": {},
   "outputs": [],
   "source": [
    "####app\n",
    "import os\n",
    "import pandas as pd\n",
    "import random\n",
    "import numpy as np\n",
    "import streamlit as st\n",
    "from tensorflow.keras.models import load_model\n",
    "from PIL import Image\n",
    "import plotly.express as px\n",
    "\n",
    "# ---------------------------------------\n",
    "# 🚀 Streamlit Config\n",
    "# ---------------------------------------\n",
    "st.set_page_config(page_title=\"Brain Tumor Classifier 🧠\", layout=\"wide\")\n",
    "st.sidebar.title(\"🚀 Navigation\")\n",
    "\n",
    "# Path to your dataset (for CSV generation)\n",
    "train_path = r\"C:\\Users\\DELL\\Downloads\\archive\\Training\"\n",
    "test_path = r\"C:\\Users\\DELL\\Downloads\\archive\\Testing\"\n",
    "\n",
    "# Define tumor classes\n",
    "tumor_classes = ['glioma', 'meningioma', 'pituitary', 'no_tumor']\n",
    "\n",
    "# Gender and Region options\n",
    "genders = ['Male', 'Female']\n",
    "regions = ['North America', 'Europe', 'Asia', 'South America', 'Africa', 'Australia']\n",
    "\n",
    "# Helper to generate random patient info\n",
    "def generate_patient_info():\n",
    "    gender = random.choice(genders)\n",
    "    region = random.choice(regions)\n",
    "    age = random.randint(5, 80)  # Age between 5 and 80\n",
    "    return gender, region, age\n",
    "\n",
    "# Assign unique Patient IDs\n",
    "patient_counter = 1\n",
    "data = []\n",
    "\n",
    "# Scan both training and testing datasets for CSV generation\n",
    "for base_path in [train_path, test_path]:\n",
    "    for tumor_type in tumor_classes:\n",
    "        folder_path = os.path.join(base_path, tumor_type)\n",
    "        if not os.path.exists(folder_path):\n",
    "            continue  # Skip missing folders\n",
    "        \n",
    "        for img_name in os.listdir(folder_path):\n",
    "            if img_name.endswith(('.jpg', '.png', '.jpeg')):\n",
    "                gender, region, age = generate_patient_info()\n",
    "                patient_id = f\"P{str(patient_counter).zfill(5)}\"\n",
    "                data.append([patient_id, gender, region, age, tumor_type, os.path.join(folder_path, img_name)])\n",
    "                patient_counter += 1\n",
    "\n",
    "# Create DataFrame for metadata\n",
    "df = pd.DataFrame(data, columns=['PatientID', 'Gender', 'Region', 'Age', 'TumorType', 'ImagePath'])\n",
    "\n",
    "# Save the dataframe to CSV\n",
    "df.to_csv(\"brain_tumor_metadata.csv\", index=False)\n",
    "print(\"✅ Dummy metadata generated and saved to brain_tumor_metadata.csv\")\n",
    "\n",
    "# ---------------------------------------\n",
    "# 🧠 Load Model ONCE\n",
    "# ---------------------------------------\n",
    "@st.cache_resource\n",
    "def load_model_once():\n",
    "    return load_model(\"brain_tumor_model_finetuned_epoch15.h5\")\n",
    "\n",
    "model = load_model_once()\n",
    "\n",
    "# ---------------------------------------\n",
    "# 🗺️ Page Selection\n",
    "# ---------------------------------------\n",
    "page = st.sidebar.selectbox(\"Select a page:\", [\"🏠 Home\", \"🔎 Image Classification\", \"📊 Dashboard\"])\n",
    "\n",
    "# ---------------------------------------\n",
    "# 🏠 Home Page\n",
    "# ---------------------------------------\n",
    "if page == \"🏠 Home\":\n",
    "    st.title(\"🧠 Brain Tumor Classification App\")\n",
    "    st.write(\"\"\"\n",
    "    Welcome to the Brain Tumor Detection App!  \n",
    "    Upload an MRI scan and let the deep learning magic happen.  \n",
    "    Stay curious, stay awesome. ✨\n",
    "    \"\"\")\n",
    "\n",
    "# ---------------------------------------\n",
    "# 🔎 Image Classification Page\n",
    "# ---------------------------------------\n",
    "elif page == \"🔎 Image Classification\":\n",
    "    st.title(\"🔎 Image Classification\")\n",
    "\n",
    "    uploaded_file = st.file_uploader(\"Upload an MRI Image 🖼️\", type=[\"jpg\", \"jpeg\", \"png\"])\n",
    "\n",
    "    if uploaded_file is not None:\n",
    "        try:\n",
    "            image = Image.open(uploaded_file)\n",
    "            st.image(image, caption=\"Uploaded MRI\", use_column_width=True)\n",
    "        except Exception as e:\n",
    "            st.error(f\"❌ Failed to load image: {e}\")\n",
    "            st.stop()\n",
    "\n",
    "        if st.button(\"Predict 🚀\"):\n",
    "            with st.spinner('Loading model and predicting... ⏳'):\n",
    "                # Preprocessing\n",
    "                image_resized = image.resize((224, 224))\n",
    "                img_array = np.expand_dims(np.array(image_resized) / 255.0, axis=0)\n",
    "\n",
    "                prediction = model.predict(img_array)\n",
    "                class_idx = np.argmax(prediction)\n",
    "\n",
    "                class_labels = [\"Glioma\", \"Meningioma\", \"No Tumor\", \"Pituitary Tumor\"]\n",
    "                predicted_label = class_labels[class_idx]\n",
    "\n",
    "                st.success(f\"🎯 Prediction: **{predicted_label}**\")\n",
    "                st.info(f\"🔵 Confidence: `{np.max(prediction) * 100:.2f}%`\")\n",
    "\n",
    "# ---------------------------\n",
    "# 📊 Dashboard Page\n",
    "# ---------------------------\n",
    "elif page == \"📊 Dashboard\":\n",
    "    st.title(\"📊 Dashboard: Brain Tumor MRI Dataset\")\n",
    "\n",
    "    try:\n",
    "        df = pd.read_csv(\"brain_tumor_metadata.csv\")\n",
    "    except FileNotFoundError:\n",
    "        st.error(\"❌ Metadata CSV not found! Please make sure 'brain_tumor_metadata.csv' exists.\")\n",
    "        st.stop()\n",
    "\n",
    "    # Sidebar filters\n",
    "    st.sidebar.header(\"🔎 Filter the Data:\")\n",
    "    tumor_filter = st.sidebar.multiselect(\"Select Tumor Type\", options=df['TumorType'].unique(), default=df['TumorType'].unique())\n",
    "    gender_filter = st.sidebar.multiselect(\"Select Gender\", options=df['Gender'].unique(), default=df['Gender'].unique())\n",
    "    region_filter = st.sidebar.multiselect(\"Select Region\", options=df['Region'].unique(), default=df['Region'].unique())\n",
    "\n",
    "    # Apply filters\n",
    "    filtered_df = df[\n",
    "        (df['TumorType'].isin(tumor_filter)) &\n",
    "        (df['Gender'].isin(gender_filter)) &\n",
    "        (df['Region'].isin(region_filter))\n",
    "    ]\n",
    "\n",
    "    st.write(f\"🔎 Showing `{filtered_df.shape[0]}` patients based on current filters.\")\n",
    "\n",
    "    # Layout for three graphs\n",
    "    st.subheader(\"🔍 Visual Insights\")\n",
    "\n",
    "    # 1. Tumor Type vs Gender (Bar Chart)\n",
    "    st.markdown(\"### 1️⃣ Tumor Type vs Gender\")\n",
    "    fig1 = px.histogram(filtered_df,\n",
    "                        x='TumorType',\n",
    "                        color='Gender',\n",
    "                        barmode='group',\n",
    "                        title=\"Tumor Type vs Gender Distribution\")\n",
    "    st.plotly_chart(fig1, use_container_width=True)\n",
    "\n",
    "    # 2. Tumor Type vs Age (Histogram - Frequency of Tumors in Age Groups)\n",
    "    st.markdown(\"### 2️⃣ Tumor Type vs Age Distribution (Histogram)\")\n",
    "\n",
    "    fig2 = px.histogram(filtered_df,\n",
    "                        x='Age',\n",
    "                        color='TumorType',\n",
    "                        nbins=30,\n",
    "                        title=\"Tumor Type Distribution by Age\",\n",
    "                        labels={\"Age\": \"Age\", \"TumorType\": \"Tumor Type\"},\n",
    "                        histfunc=\"count\",\n",
    "                        opacity=0.7)\n",
    "\n",
    "    st.plotly_chart(fig2, use_container_width=True)\n",
    "\n",
    "    # 3. Tumor Type across Region (Heatmap)\n",
    "    st.markdown(\"### 3️⃣ Tumor Type Across Regions\")\n",
    "\n",
    "    region_tumor_count = (\n",
    "        filtered_df\n",
    "        .groupby(['TumorType', 'Region'])\n",
    "        .size()\n",
    "        .reset_index(name='Count')\n",
    "    )\n",
    "\n",
    "    pivot_df = (\n",
    "        region_tumor_count\n",
    "        .pivot(index='TumorType', columns='Region', values='Count')\n",
    "        .fillna(0)\n",
    "    )\n",
    "\n",
    "    if pivot_df.shape[1] == 0:\n",
    "        st.warning(\"No regions selected — nothing to display!\")\n",
    "    else:\n",
    "        fig3 = px.imshow(\n",
    "            pivot_df,\n",
    "            labels={'x': 'Region', 'y': 'Tumor Type', 'color': 'Patient Count'},\n",
    "            x=pivot_df.columns.tolist(),\n",
    "            y=pivot_df.index.tolist(),\n",
    "            title=\"Tumor Frequency Across Regions\",\n",
    "            aspect=\"auto\",\n",
    "            color_continuous_scale=\"Viridis\"\n",
    "        )\n",
    "        st.plotly_chart(fig3, use_container_width=True)\n"
   ]
  },
  {
   "cell_type": "code",
   "execution_count": null,
   "id": "8465fab0",
   "metadata": {
    "lines_to_next_cell": 2
   },
   "outputs": [],
   "source": []
  }
 ],
 "metadata": {
  "jupytext": {
   "cell_metadata_filter": "-all",
   "encoding": "# coding: utf-8",
   "executable": "/usr/bin/env python",
   "main_language": "python",
   "notebook_metadata_filter": "-all"
  },
  "kernelspec": {
   "display_name": "Python 3 (ipykernel)",
   "language": "python",
   "name": "python3"
  },
  "language_info": {
   "name": ""
  }
 },
 "nbformat": 4,
 "nbformat_minor": 5
}
